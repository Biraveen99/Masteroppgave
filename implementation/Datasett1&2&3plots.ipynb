{
 "cells": [
  {
   "cell_type": "code",
   "execution_count": 7,
   "id": "44ecda59-d878-41c5-aecd-d61b65a8a3cf",
   "metadata": {},
   "outputs": [],
   "source": [
    "#Datasett 1 og 2 fra kaggle\n",
    "import pandas as pd\n",
    "import matplotlib.pyplot as plt\n",
    "from pathlib import Path\n",
    "\n",
    "# Funksjon for å lage og lagre plott for et gitt datasett\n",
    "def lagre_plott(filbane, bilde_navn):\n",
    "    df = pd.read_csv(filbane)  # Bruker filbane-argumentet her\n",
    "    df['datetime'] = pd.to_datetime(df['datetime'])\n",
    "    plt.figure(figsize=(14, 6))\n",
    "    plt.plot(df['datetime'], df['cpu'], linewidth=0.5)\n",
    "    plt.title(f'CPU-bruk over tid - {filbane.stem}')\n",
    "    plt.xlabel('Tid')\n",
    "    plt.ylabel('CPU-bruk (%)')\n",
    "    plt.grid(True)\n",
    "    plt.savefig(bilde_navn, dpi=300, bbox_inches='tight')\n",
    "    plt.close()\n",
    "\n",
    "# Angi banen til mappen som inneholder CSV-filene\n",
    "data_mappe = Path('/Users/biraveennedunchelian/Documents/Masteroppgave/Masteroppgave/CPU_DATA FRA KAGGLE/Test/ww/datasets/gauravduttakiit/cpu-utilization')\n",
    "\n",
    "# Iterer gjennom alle CSV-filene i mappen og lagre plott for hver\n",
    "for csv_fil in data_mappe.glob('*.csv'):\n",
    "    bilde_navn = csv_fil.stem + '.png'  # Bruker filnavnet uten endelse for bilde\n",
    "    lagre_plott(csv_fil, bilde_navn)\n"
   ]
  },
  {
   "cell_type": "code",
   "execution_count": 16,
   "id": "7607f39d-1f23-4cd0-bf0d-9cd45059b024",
   "metadata": {},
   "outputs": [],
   "source": [
    "#For dataset 3\n",
    "import pandas as pd\n",
    "import matplotlib.pyplot as plt\n",
    "from datetime import datetime\n",
    "\n",
    "# Last inn JSON-data\n",
    "df_raw = pd.read_json(\"/Users/biraveennedunchelian/Documents/Masteroppgave/Masteroppgave/CPU-data-fra-github/data-jan-2022.json\")\n",
    "\n",
    "# Ekstraher verdiene fra riktig sted i strukturen\n",
    "values = df_raw['result'][0]['values']\n",
    "\n",
    "# Lag DataFrame fra verdiene\n",
    "df = pd.DataFrame(values, columns=[\"timestamp\", \"cpu\"])\n",
    "\n",
    "# Konverter tid fra UNIX timestamp til datetime\n",
    "df[\"datetime\"] = pd.to_datetime(df[\"timestamp\"], unit=\"s\")\n",
    "df[\"cpu\"] = df[\"cpu\"].astype(float)\n",
    "\n",
    "# Sorter etter tid\n",
    "df = df.sort_values(\"datetime\")\n",
    "\n",
    "# Lag plott\n",
    "plt.figure(figsize=(14, 6))\n",
    "plt.plot(df[\"datetime\"], df[\"cpu\"], linewidth=0.5)\n",
    "plt.title(\"CPU Usage Over Time - January 2022\")\n",
    "plt.xlabel(\"Time\")\n",
    "plt.ylabel(\"CPU Usage (%)\")\n",
    "plt.grid(True)\n",
    "\n",
    "# Lagre bildet\n",
    "plt.savefig(\"cpu-usage-jan-2022.png\", dpi=300, bbox_inches='tight')\n",
    "plt.close()\n"
   ]
  },
  {
   "cell_type": "code",
   "execution_count": 22,
   "id": "4ebf915c-a250-4820-9f19-c4055e6ae0cd",
   "metadata": {},
   "outputs": [
    {
     "data": {
      "text/plain": [
       "'Train and test plots saved successfully.'"
      ]
     },
     "execution_count": 22,
     "metadata": {},
     "output_type": "execute_result"
    }
   ],
   "source": [
    "#for datasett 3 train and testdata\n",
    "# Re-import necessary libraries after code state reset\n",
    "import pandas as pd\n",
    "import matplotlib.pyplot as plt\n",
    "\n",
    "# Load JSON data\n",
    "df_raw = pd.read_json(\"/Users/biraveennedunchelian/Documents/Masteroppgave/Masteroppgave/CPU-data-fra-github/data-jan-2022.json\")\n",
    "values = df_raw['result'][0]['values']\n",
    "\n",
    "# Create DataFrame\n",
    "df = pd.DataFrame(values, columns=[\"timestamp\", \"cpu\"])\n",
    "df[\"datetime\"] = pd.to_datetime(df[\"timestamp\"], unit=\"s\")\n",
    "df[\"cpu\"] = df[\"cpu\"].astype(float)\n",
    "df = df.sort_values(\"datetime\").reset_index(drop=True)\n",
    "\n",
    "# Split 80/20\n",
    "split_index = int(len(df) * 0.8)\n",
    "df_train = df.iloc[:split_index]\n",
    "df_test = df.iloc[split_index:]\n",
    "\n",
    "# Plot training data\n",
    "plt.figure(figsize=(14, 6))\n",
    "plt.plot(df_train[\"datetime\"], df_train[\"cpu\"], linewidth=0.5)\n",
    "plt.title(\"CPU Usage - Training Set (80%)\")\n",
    "plt.xlabel(\"Time\")\n",
    "plt.ylabel(\"CPU Usage (%)\")\n",
    "plt.grid(True)\n",
    "plt.savefig(\"cpu-usage-train-jan-2022.png\", dpi=300, bbox_inches='tight')\n",
    "plt.close()\n",
    "\n",
    "# Plot test data\n",
    "plt.figure(figsize=(14, 6))\n",
    "plt.plot(df_test[\"datetime\"], df_test[\"cpu\"], linewidth=0.5)\n",
    "plt.title(\"CPU Usage - Test Set (20%)\")\n",
    "plt.xlabel(\"Time\")\n",
    "plt.ylabel(\"CPU Usage (%)\")\n",
    "plt.grid(True)\n",
    "plt.savefig(\"cpu-usage-test-jan-2022.png\", dpi=300, bbox_inches='tight')\n",
    "plt.close()\n",
    "\n",
    "\"Train and test plots saved successfully.\"\n"
   ]
  },
  {
   "cell_type": "code",
   "execution_count": null,
   "id": "ea841920-19da-43f8-8cb5-ab69fdd17e5a",
   "metadata": {},
   "outputs": [],
   "source": []
  }
 ],
 "metadata": {
  "kernelspec": {
   "display_name": "Python [conda env:base] *",
   "language": "python",
   "name": "conda-base-py"
  },
  "language_info": {
   "codemirror_mode": {
    "name": "ipython",
    "version": 3
   },
   "file_extension": ".py",
   "mimetype": "text/x-python",
   "name": "python",
   "nbconvert_exporter": "python",
   "pygments_lexer": "ipython3",
   "version": "3.12.7"
  }
 },
 "nbformat": 4,
 "nbformat_minor": 5
}
