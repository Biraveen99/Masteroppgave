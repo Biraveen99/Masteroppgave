{
 "cells": [
  {
   "cell_type": "code",
   "execution_count": 3,
   "id": "ac97ce6e-2b4a-4e18-aaeb-28ac5dddff76",
   "metadata": {},
   "outputs": [
    {
     "data": {
      "text/plain": [
       "('vertical_scaling.png', 'horizontal_scaling.png')"
      ]
     },
     "execution_count": 3,
     "metadata": {},
     "output_type": "execute_result"
    }
   ],
   "source": [
    "import matplotlib.pyplot as plt\n",
    "import matplotlib.patches as patches\n",
    "\n",
    "def draw_vertical_scaling(ax):\n",
    "    ax.set_title(\"Vertical Scaling (Scale-Up)\", fontsize=14)\n",
    "    ax.set_xlim(0, 6)\n",
    "    ax.set_ylim(0, 14)\n",
    "    ax.axis('off')\n",
    "\n",
    "    # Base server\n",
    "    base = patches.Rectangle((2, 1), 2, 3, edgecolor='black', facecolor='lightgray')\n",
    "    ax.add_patch(base)\n",
    "    ax.text(3, 2.5, \"CPU\", ha='center', fontsize=10)\n",
    "    ax.text(3, 1.8, \"RAM\", ha='center', fontsize=10)\n",
    "    ax.text(3, 1.1, \"Disk\", ha='center', fontsize=10)\n",
    "\n",
    "    # Upgraded server\n",
    "    upgraded = patches.Rectangle((2, 5), 2, 8, edgecolor='black', facecolor='skyblue')\n",
    "    ax.add_patch(upgraded)\n",
    "    ax.text(3, 10, \"More CPU\", ha='center', fontsize=10)\n",
    "    ax.text(3, 8.5, \"More RAM\", ha='center', fontsize=10)\n",
    "    ax.text(3, 7, \"More Disk\", ha='center', fontsize=10)\n",
    "\n",
    "    ax.annotate(\"Upgrade\\nSingle Machine\", xy=(3, 9.5), xytext=(1, 12),\n",
    "                arrowprops=dict(facecolor='black', arrowstyle='->'),\n",
    "                ha='center', fontsize=10)\n",
    "\n",
    "def draw_horizontal_scaling(ax):\n",
    "    ax.set_title(\"Horizontal Scaling (Scale-Out)\", fontsize=14)\n",
    "    ax.set_xlim(0, 10)\n",
    "    ax.set_ylim(0, 6)\n",
    "    ax.axis('off')\n",
    "\n",
    "    # Multiple smaller servers\n",
    "    for i in range(5):\n",
    "        x = 0.8 + i*1.8\n",
    "        server = patches.Rectangle((x, 1), 1.5, 3, edgecolor='black', facecolor='lightgreen')\n",
    "        ax.add_patch(server)\n",
    "        ax.text(x + 0.75, 3.5, f\"Node {i+1}\", ha='center', fontsize=9)\n",
    "        ax.text(x + 0.75, 2.2, \"CPU\\nRAM\\nDisk\", ha='center', fontsize=8)\n",
    "\n",
    "    ax.annotate(\"Add More Nodes\", xy=(5.5, 3.2), xytext=(7.5, 5),\n",
    "                arrowprops=dict(facecolor='black', arrowstyle='->'),\n",
    "                ha='center', fontsize=10)\n",
    "\n",
    "# Create and save the vertical scaling figure\n",
    "fig1, ax1 = plt.subplots(figsize=(7, 8))\n",
    "draw_vertical_scaling(ax1)\n",
    "fig1.suptitle(\"Vertical Scaling Illustration\", fontsize=16, weight='bold')\n",
    "plt.tight_layout()\n",
    "fig1.savefig(\"vertical_scaling.png\")\n",
    "plt.close(fig1)\n",
    "\n",
    "# Create and save the horizontal scaling figure\n",
    "fig2, ax2 = plt.subplots(figsize=(10, 6))\n",
    "draw_horizontal_scaling(ax2)\n",
    "fig2.suptitle(\"Horizontal Scaling Illustration\", fontsize=16, weight='bold')\n",
    "plt.tight_layout()\n",
    "fig2.savefig(\"horizontal_scaling.png\")\n",
    "plt.close(fig2)\n",
    "\n",
    "\"vertical_scaling.png\", \"horizontal_scaling.png\"\n"
   ]
  },
  {
   "cell_type": "code",
   "execution_count": null,
   "id": "1ac419f3-9ceb-4527-9411-2108dc8ebcfc",
   "metadata": {},
   "outputs": [],
   "source": []
  }
 ],
 "metadata": {
  "kernelspec": {
   "display_name": "Python [conda env:base] *",
   "language": "python",
   "name": "conda-base-py"
  },
  "language_info": {
   "codemirror_mode": {
    "name": "ipython",
    "version": 3
   },
   "file_extension": ".py",
   "mimetype": "text/x-python",
   "name": "python",
   "nbconvert_exporter": "python",
   "pygments_lexer": "ipython3",
   "version": "3.12.7"
  }
 },
 "nbformat": 4,
 "nbformat_minor": 5
}
