{
 "cells": [
  {
   "cell_type": "code",
   "execution_count": null,
   "id": "ed274dcc-df8f-4446-ae64-d7a7594f108f",
   "metadata": {},
   "outputs": [],
   "source": [
    "import matplotlib.pyplot as plt\n",
    "import matplotlib.patches as patches\n",
    "\n",
    "fig, ax = plt.subplots(figsize=(13, 6))\n",
    "\n",
    "# BLACK BOX\n",
    "ax.add_patch(patches.Rectangle((0.5, 3), 2, 2, edgecolor='black', facecolor='black'))\n",
    "ax.text(1.5, 4, 'Black Box', color='white', fontsize=13, ha='center', va='center')\n",
    "ax.arrow(0.1, 4, 0.4, 0, head_width=0.15, head_length=0.1, fc='blue', ec='blue')\n",
    "ax.text(0.1, 4.3, 'Input', fontsize=11, color='blue')\n",
    "ax.arrow(2.5, 4, 0.4, 0, head_width=0.15, head_length=0.1, fc='green', ec='green')\n",
    "ax.text(2.9, 4.3, 'Output', fontsize=11, color='green')\n",
    "\n",
    "# WHITE BOX\n",
    "ax.add_patch(patches.Rectangle((6.5, 3), 3, 2, edgecolor='black', facecolor='white'))\n",
    "ax.text(8, 4.6, 'White Box', color='black', fontsize=13, ha='center', va='center')\n",
    "\n",
    "# Inner logic steps\n",
    "step1 = patches.FancyBboxPatch((6.7, 3.3), 0.7, 1.0, boxstyle=\"round,pad=0.05\", edgecolor='gray', facecolor='lightgray')\n",
    "step2 = patches.FancyBboxPatch((7.6, 3.3), 0.7, 1.0, boxstyle=\"round,pad=0.05\", edgecolor='gray', facecolor='lightgray')\n",
    "step3 = patches.FancyBboxPatch((8.5, 3.3), 0.7, 1.0, boxstyle=\"round,pad=0.05\", edgecolor='gray', facecolor='lightgray')\n",
    "\n",
    "ax.add_patch(step1)\n",
    "ax.add_patch(step2)\n",
    "ax.add_patch(step3)\n",
    "\n",
    "ax.text(7.05, 3.8, 'Step 1', fontsize=9, ha='center', va='center')\n",
    "ax.text(7.95, 3.8, 'Step 2', fontsize=9, ha='center', va='center')\n",
    "ax.text(8.85, 3.8, 'Step 3', fontsize=9, ha='center', va='center')\n",
    "\n",
    "# Arrows inside white box\n",
    "ax.arrow(7.4, 3.8, 0.2, 0, head_width=0.07, head_length=0.1, fc='black', ec='black')\n",
    "ax.arrow(8.3, 3.8, 0.2, 0, head_width=0.07, head_length=0.1, fc='black', ec='black')\n",
    "\n",
    "# Input/output\n",
    "ax.arrow(6.0, 4, 0.4, 0, head_width=0.15, head_length=0.1, fc='blue', ec='blue')\n",
    "ax.text(5.7, 4.3, 'Input', fontsize=11, color='blue')\n",
    "ax.arrow(9.2, 4, 0.4, 0, head_width=0.15, head_length=0.1, fc='green', ec='green')\n",
    "ax.text(9.6, 4.3, 'Output', fontsize=11, color='green')\n",
    "\n",
    "# Title and save\n",
    "plt.title(\"Black Box vs White Box Illustration\", fontsize=16, weight='bold')\n",
    "ax.axis('off')\n",
    "plt.tight_layout()\n",
    "\n",
    "# Save to file\n",
    "plt.savefig(\"whitebox_vs_blackbox.png\", dpi=300, bbox_inches='tight')\n",
    "plt.show()\n"
   ]
  }
 ],
 "metadata": {
  "kernelspec": {
   "display_name": "Python [conda env:base] *",
   "language": "python",
   "name": "conda-base-py"
  },
  "language_info": {
   "codemirror_mode": {
    "name": "ipython",
    "version": 3
   },
   "file_extension": ".py",
   "mimetype": "text/x-python",
   "name": "python",
   "nbconvert_exporter": "python",
   "pygments_lexer": "ipython3",
   "version": "3.12.7"
  }
 },
 "nbformat": 4,
 "nbformat_minor": 5
}
