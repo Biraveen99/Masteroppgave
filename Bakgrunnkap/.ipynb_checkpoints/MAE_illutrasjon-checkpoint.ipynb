{
 "cells": [
  {
   "cell_type": "code",
   "execution_count": null,
   "id": "d12e16a6-cc5b-43cb-8725-af98f8390c60",
   "metadata": {},
   "outputs": [],
   "source": [
    "import matplotlib.pyplot as plt\n",
    "import numpy as np\n",
    "\n",
    "# Sample data\n",
    "X = np.array([1, 2, 3, 4, 5])\n",
    "Y_actual = np.array([1.2, 2.8, 3.5, 3.9, 5.1])\n",
    "Y_predicted = np.array([1, 2, 3, 4, 5])\n",
    "\n",
    "# Calculate absolute errors\n",
    "errors = np.abs(Y_actual - Y_predicted)\n",
    "\n",
    "# Plot actual data points\n",
    "plt.scatter(X, Y_actual, color='purple', label='Actual Values')\n",
    "\n",
    "# Plot predicted data points\n",
    "plt.scatter(X, Y_predicted, color='blue', label='Predicted Values')\n",
    "\n",
    "# Plot error lines\n",
    "for i in range(len(X)):\n",
    "    plt.plot([X[i], X[i]], [Y_actual[i], Y_predicted[i]], color='red', linestyle='--')\n",
    "\n",
    "# Annotate error values\n",
    "for i in range(len(X)):\n",
    "    plt.text(X[i] + 0.1, (Y_actual[i] + Y_predicted[i]) / 2, f'{errors[i]:.2f}', color='red')\n",
    "\n",
    "# Labels and title\n",
    "plt.xlabel('X')\n",
    "plt.ylabel('Y')\n",
    "plt.title('Mean Absolute Error (MAE) Illustration')\n",
    "plt.legend()\n",
    "plt.grid(True)\n",
    "\n",
    "# Save and show the plot\n",
    "plt.savefig('MAE_illustration.png')\n",
    "plt.show()\n"
   ]
  }
 ],
 "metadata": {
  "kernelspec": {
   "display_name": "Python [conda env:base] *",
   "language": "python",
   "name": "conda-base-py"
  },
  "language_info": {
   "codemirror_mode": {
    "name": "ipython",
    "version": 3
   },
   "file_extension": ".py",
   "mimetype": "text/x-python",
   "name": "python",
   "nbconvert_exporter": "python",
   "pygments_lexer": "ipython3",
   "version": "3.12.7"
  }
 },
 "nbformat": 4,
 "nbformat_minor": 5
}
