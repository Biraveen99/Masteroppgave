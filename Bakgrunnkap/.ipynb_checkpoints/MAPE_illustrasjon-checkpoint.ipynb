{
 "cells": [
  {
   "cell_type": "code",
   "execution_count": null,
   "id": "c0d577b9-7a12-435e-b9db-7c153c3a5b4a",
   "metadata": {},
   "outputs": [],
   "source": [
    "import matplotlib.pyplot as plt\n",
    "import numpy as np\n",
    "\n",
    "# Data\n",
    "observations = np.array([1, 2, 3, 4, 5])\n",
    "actual = np.array([100, 200, 300, 400, 500])\n",
    "predicted = np.array([90, 195, 310, 380, 490])\n",
    "percentage_errors = np.abs((actual - predicted) / actual) * 100\n",
    "\n",
    "# Plot\n",
    "plt.figure(figsize=(10, 6))\n",
    "plt.scatter(observations, actual, color='purple', label='Actual', s=100)\n",
    "plt.scatter(observations, predicted, color='blue', label='Predicted', s=100)\n",
    "plt.plot(observations, actual, linestyle='--', color='gray', alpha=0.5)\n",
    "\n",
    "# Error lines and annotations\n",
    "for i in range(len(observations)):\n",
    "    plt.plot([observations[i], observations[i]], [actual[i], predicted[i]], color='red', linestyle='--')\n",
    "    mid_y = (actual[i] + predicted[i]) / 2\n",
    "    plt.text(observations[i] + 0.1, mid_y, f\"{percentage_errors[i]:.2f}%\", color='red', fontsize=9)\n",
    "\n",
    "# Aesthetics\n",
    "plt.xticks(observations)\n",
    "plt.xlabel(\"Observation\")\n",
    "plt.ylabel(\"Value\")\n",
    "plt.title(\"MAPE Illustration: Actual vs Predicted with Percentage Errors\")\n",
    "plt.legend()\n",
    "plt.grid(True)\n",
    "plt.tight_layout()\n",
    "\n",
    "# Save and show\n",
    "plt.savefig(\"mape_illustration.png\")\n",
    "plt.show()\n"
   ]
  }
 ],
 "metadata": {
  "kernelspec": {
   "display_name": "Python [conda env:base] *",
   "language": "python",
   "name": "conda-base-py"
  },
  "language_info": {
   "codemirror_mode": {
    "name": "ipython",
    "version": 3
   },
   "file_extension": ".py",
   "mimetype": "text/x-python",
   "name": "python",
   "nbconvert_exporter": "python",
   "pygments_lexer": "ipython3",
   "version": "3.12.7"
  }
 },
 "nbformat": 4,
 "nbformat_minor": 5
}
