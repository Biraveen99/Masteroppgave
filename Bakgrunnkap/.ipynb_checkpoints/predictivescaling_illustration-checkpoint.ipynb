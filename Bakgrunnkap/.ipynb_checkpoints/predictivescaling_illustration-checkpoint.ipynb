{
 "cells": [
  {
   "cell_type": "code",
   "execution_count": null,
   "id": "7ef1adbf-e451-457c-8c4a-1ee5e28381f4",
   "metadata": {},
   "outputs": [],
   "source": [
    "import matplotlib.pyplot as plt\n",
    "import numpy as np\n",
    "\n",
    "# Simulated time\n",
    "time = np.arange(0, 24, 0.5)\n",
    "\n",
    "# Simulated actual load (somewhat noisy sine wave to mimic daily usage)\n",
    "actual_load = 50 + 30 * np.sin((time - 6) * np.pi / 12) + np.random.normal(0, 5, len(time))\n",
    "\n",
    "# Predicted load (smooth sine wave)\n",
    "predicted_load = 50 + 30 * np.sin((time - 6) * np.pi / 12)\n",
    "\n",
    "# Resource allocation (rounded up predicted load / 20)\n",
    "resource_allocation = np.ceil(predicted_load / 20)\n",
    "\n",
    "fig, ax1 = plt.subplots()\n",
    "\n",
    "# Plot actual and predicted load\n",
    "ax1.plot(time, actual_load, label='Actual Load', linestyle='--')\n",
    "ax1.plot(time, predicted_load, label='Predicted Load', linewidth=2)\n",
    "ax1.set_xlabel('Time (hours)')\n",
    "ax1.set_ylabel('Load (Requests/sec)')\n",
    "ax1.legend(loc='upper left')\n",
    "ax1.set_title('Predictive Scaling Example')\n",
    "\n",
    "# Create a second y-axis for resource allocation\n",
    "ax2 = ax1.twinx()\n",
    "ax2.step(time, resource_allocation, label='Resource Allocation (Instances)', color='green', where='mid')\n",
    "ax2.set_ylabel('Number of Instances')\n",
    "ax2.legend(loc='upper right')\n",
    "\n",
    "plt.grid(True)\n",
    "plt.tight_layout()\n",
    "plt.savefig(\"predictive_scaling_illustration.png\", dpi=300)\n",
    "plt.show()\n",
    "\n",
    "\n"
   ]
  }
 ],
 "metadata": {
  "kernelspec": {
   "display_name": "Python [conda env:base] *",
   "language": "python",
   "name": "conda-base-py"
  },
  "language_info": {
   "codemirror_mode": {
    "name": "ipython",
    "version": 3
   },
   "file_extension": ".py",
   "mimetype": "text/x-python",
   "name": "python",
   "nbconvert_exporter": "python",
   "pygments_lexer": "ipython3",
   "version": "3.12.7"
  }
 },
 "nbformat": 4,
 "nbformat_minor": 5
}
